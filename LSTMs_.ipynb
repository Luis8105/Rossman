{
  "nbformat": 4,
  "nbformat_minor": 0,
  "metadata": {
    "colab": {
      "private_outputs": true,
      "provenance": [],
      "authorship_tag": "ABX9TyO5jkx+2JINRhYhYrp0td57",
      "include_colab_link": true
    },
    "kernelspec": {
      "name": "python3",
      "display_name": "Python 3"
    },
    "language_info": {
      "name": "python"
    }
  },
  "cells": [
    {
      "cell_type": "markdown",
      "metadata": {
        "id": "view-in-github",
        "colab_type": "text"
      },
      "source": [
        "<a href=\"https://colab.research.google.com/github/Luis8105/Rossman/blob/main/LSTMs_.ipynb\" target=\"_parent\"><img src=\"https://colab.research.google.com/assets/colab-badge.svg\" alt=\"Open In Colab\"/></a>"
      ]
    },
    {
      "cell_type": "code",
      "execution_count": null,
      "metadata": {
        "id": "xkYKFC2pjdzc"
      },
      "outputs": [],
      "source": [
        "from tensorflow.keras.layers import LSTM, Input, Bidirectional,Embedding, Dense\n",
        "from tensorflow.keras.models import Model, Sequential\n",
        "import numpy as np\n",
        "\n"
      ]
    },
    {
      "cell_type": "code",
      "source": [
        "entrada = Input(shape = (10, ), name = \"idx\")\n",
        "lstm_h_in = Input(shape = (20, ), name = \"h\")\n",
        "lstm_c_in = Input(shape = (20, ), name = \"c\")\n",
        "emb = Embedding(10000, 30)(entrada)\n",
        "lstm_layer = LSTM(20,return_sequences=True,stateful=True)\n",
        "lstm_out,lstm_h_out,lstm_c_out = lstm_layer(emb, initial_state=[lstm_h_in,lstm_c_in])\n",
        "out = Dense(10, activation = 'softmax')(lstm_out)\n"
      ],
      "metadata": {
        "id": "hqf2BthIl3C1"
      },
      "execution_count": null,
      "outputs": []
    },
    {
      "cell_type": "code",
      "source": [
        "model = Model(inputs = [entrada,lstm_h_in,lstm_c_in], outputs = [out,lstm_h_out,lstm_c_out])\n"
      ],
      "metadata": {
        "id": "aw5zMm0KnGFA"
      },
      "execution_count": null,
      "outputs": []
    },
    {
      "cell_type": "code",
      "source": [
        "model.summary()"
      ],
      "metadata": {
        "id": "bG4-ZH7goVdW"
      },
      "execution_count": null,
      "outputs": []
    },
    {
      "cell_type": "code",
      "source": [
        "out, h, c = model.predict([np.ones([1,10]),np.zeros([1,20]), np.zeros([1,20])])"
      ],
      "metadata": {
        "id": "bJq7KzvcnKzp"
      },
      "execution_count": null,
      "outputs": []
    }
  ]
}